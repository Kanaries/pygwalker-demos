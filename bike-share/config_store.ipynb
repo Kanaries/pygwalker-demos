{
 "cells": [
  {
   "cell_type": "code",
   "execution_count": 1,
   "id": "763d3a1e-d71f-4be5-b5fd-7ad58a30bbbd",
   "metadata": {},
   "outputs": [],
   "source": [
    "# import data\n",
    "import pandas as pd\n",
    "\n",
    "df = pd.read_csv(\"bike_sharing_dc.csv\")"
   ]
  },
  {
   "cell_type": "code",
   "execution_count": 2,
   "id": "66c4f52f-76f6-42d1-9ec4-c1acd4d34941",
   "metadata": {},
   "outputs": [
    {
     "data": {
      "application/vnd.jupyter.widget-view+json": {
       "model_id": "a2534909d31041f1b25cc8f0044836ac",
       "version_major": 2,
       "version_minor": 0
      },
      "text/plain": [
       "Box(children=(HTML(value='<div id=\"ifr-pyg-0\" style=\"height: auto\">\\n    <head>\\n        <!-- ipywidgets.HTML …"
      ]
     },
     "metadata": {},
     "output_type": "display_data"
    },
    {
     "data": {
      "text/html": [],
      "text/plain": [
       "<IPython.core.display.HTML object>"
      ]
     },
     "metadata": {},
     "output_type": "display_data"
    },
    {
     "data": {
      "text/plain": [
       "<pygwalker.api.pygwalker.PygWalker at 0x1387fe450>"
      ]
     },
     "execution_count": 2,
     "metadata": {},
     "output_type": "execute_result"
    }
   ],
   "source": [
    "# explore data\n",
    "import pygwalker as pyg\n",
    "\n",
    "pyg.walk(df, spec=\"config.json\")"
   ]
  },
  {
   "cell_type": "code",
   "execution_count": null,
   "id": "3a8eab00-61a8-4e2d-9203-438922963bb7",
   "metadata": {},
   "outputs": [],
   "source": []
  },
  {
   "cell_type": "code",
   "execution_count": null,
   "id": "9960b282-8272-4351-a200-8efd8dbe080d",
   "metadata": {},
   "outputs": [],
   "source": []
  }
 ],
 "metadata": {
  "kernelspec": {
   "display_name": "Python 3 (ipykernel)",
   "language": "python",
   "name": "python3"
  },
  "language_info": {
   "codemirror_mode": {
    "name": "ipython",
    "version": 3
   },
   "file_extension": ".py",
   "mimetype": "text/x-python",
   "name": "python",
   "nbconvert_exporter": "python",
   "pygments_lexer": "ipython3",
   "version": "3.11.3"
  }
 },
 "nbformat": 4,
 "nbformat_minor": 5
}
